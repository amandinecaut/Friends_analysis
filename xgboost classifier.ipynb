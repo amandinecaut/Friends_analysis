{
 "cells": [
  {
   "cell_type": "code",
   "execution_count": 1,
   "id": "22c7a881",
   "metadata": {},
   "outputs": [],
   "source": [
    "import numpy as np\n",
    "import xgboost as xgb\n",
    "import pandas as pd\n",
    "from sklearn.datasets import load_digits\n",
    "from sklearn.model_selection import train_test_split\n",
    "from sklearn.metrics import accuracy_score\n",
    "\n",
    "#df = pd.read_pickle('C:/Users/amaca253/Desktop/Friends-Friends-Language-Analysis/BBT/data_emb.pkl')\n",
    "pca_df = pd.read_pickle('C:/Users/amaca253/Desktop/Friends-Friends-Language-Analysis/BBT/data_300pca.pkl')\n",
    "#pca_df = pd.read_pickle('C:/Users/amaca253/Desktop/Friends-Friends-Language-Analysis/data_pickle/all_sentences_pca.pkl')"
   ]
  },
  {
   "cell_type": "code",
   "execution_count": null,
   "id": "86edd7f7",
   "metadata": {},
   "outputs": [],
   "source": [
    "print(pca_df)"
   ]
  },
  {
   "cell_type": "code",
   "execution_count": 2,
   "id": "8cf29210",
   "metadata": {},
   "outputs": [],
   "source": [
    "X = pca_df.loc[:,'PCA1':'PCA20']\n",
    "X = X.values\n",
    "one_hot = pd.get_dummies(pca_df['Person'])\n",
    "y = one_hot.values\n",
    "\n",
    "X_train, X_test, y_train, y_test = train_test_split(X, y, test_size=1/3, random_state = 0)"
   ]
  },
  {
   "cell_type": "code",
   "execution_count": 3,
   "id": "55b494ee",
   "metadata": {},
   "outputs": [
    {
     "name": "stdout",
     "output_type": "stream",
     "text": [
      "['Sheldon' 'Leonard' 'Sheldon' ... 'Sheldon' 'Sheldon' 'Sheldon']\n",
      "[6 3 6 ... 6 6 6]\n",
      "[[0. 0. 0. ... 0. 0. 1.]\n",
      " [0. 0. 0. ... 0. 0. 0.]\n",
      " [0. 0. 0. ... 0. 0. 1.]\n",
      " ...\n",
      " [0. 0. 0. ... 0. 0. 1.]\n",
      " [0. 0. 0. ... 0. 0. 1.]\n",
      " [0. 0. 0. ... 0. 0. 1.]]\n",
      "['Sheldon']\n"
     ]
    }
   ],
   "source": [
    "from numpy import array\n",
    "from numpy import argmax\n",
    "from sklearn.preprocessing import LabelEncoder\n",
    "from sklearn.preprocessing import OneHotEncoder\n",
    "# define example\n",
    "data = pca_df['Person']\n",
    "values = array(data)\n",
    "print(values)\n",
    "# integer encode\n",
    "label_encoder = LabelEncoder()\n",
    "integer_encoded = label_encoder.fit_transform(values)\n",
    "print(integer_encoded)\n",
    "# binary encode\n",
    "onehot_encoder = OneHotEncoder(sparse=False)\n",
    "integer_encoded = integer_encoded.reshape(len(integer_encoded), 1)\n",
    "onehot_encoded = onehot_encoder.fit_transform(integer_encoded)\n",
    "print(onehot_encoded)\n",
    "# invert first example\n",
    "inverted = label_encoder.inverse_transform([argmax(onehot_encoded[0, :])])\n",
    "print(inverted)"
   ]
  },
  {
   "cell_type": "code",
   "execution_count": 4,
   "id": "36e66e3b",
   "metadata": {},
   "outputs": [
    {
     "data": {
      "text/plain": [
       "XGBClassifier(base_score=None, booster=None, callbacks=None,\n",
       "              colsample_bylevel=None, colsample_bynode=None,\n",
       "              colsample_bytree=None, device=None, early_stopping_rounds=None,\n",
       "              enable_categorical=False, eval_metric=None, feature_types=None,\n",
       "              gamma=None, grow_policy=None, importance_type=None,\n",
       "              interaction_constraints=None, learning_rate=None, max_bin=None,\n",
       "              max_cat_threshold=None, max_cat_to_onehot=None,\n",
       "              max_delta_step=None, max_depth=None, max_leaves=None,\n",
       "              min_child_weight=None, missing=nan, monotone_constraints=None,\n",
       "              multi_strategy=None, n_estimators=None, n_jobs=None,\n",
       "              num_parallel_tree=None, random_state=None, ...)"
      ]
     },
     "execution_count": 4,
     "metadata": {},
     "output_type": "execute_result"
    }
   ],
   "source": [
    "from xgboost import XGBClassifier\n",
    "xgb_model= xgb.XGBRegressor(max_depth=7,\n",
    "    n_estimators=100, learning_rate=0.44,\n",
    "    subsample = 0.25).fit(\n",
    "    X_train, y_train)\n",
    "model = XGBClassifier()\n",
    "model.fit(X_train, y_train)"
   ]
  },
  {
   "cell_type": "code",
   "execution_count": null,
   "id": "5fd600ea",
   "metadata": {},
   "outputs": [],
   "source": [
    "pred = xgb_model.predict(X_test)\n",
    "y_pred = np.argmax(pred, axis=1)\n",
    "y_test2 = np.argmax(y_test, axis=1)\n",
    "# evaluate predictions\n",
    "\n",
    "accuracy = accuracy_score(y_test2, y_pred)\n",
    "print(\"Accuracy:\", (accuracy * 100.0))\n",
    "\n",
    "# max_depth=7, n_estimators=100, learning_rate=0.44, subsample = 0.25, test size = 1/4\n",
    "# for 300PCA: Accuracy: 22.157979007294077\n",
    "# for 30 PCA : Accuracy: 22.878491371642056\n",
    "# for 25 PCA: 22.825120085394058\n",
    "# for 20 PCA: accuracy = 23.572318092866038\n",
    "# for 15 PCA: accuracy = Accuracy: 22.513787582280735\n",
    "# for 10 PCA: accuracy = 21.92670343355275\n",
    "# for 2 PCA: 22.56715886852873"
   ]
  },
  {
   "cell_type": "code",
   "execution_count": null,
   "id": "752817af",
   "metadata": {},
   "outputs": [],
   "source": [
    "# import matplotlib.pyplot as plt\n",
    "y_acc = [22.56715886852873, 21.92670343355275, 22.513787582280735, 23.572318092866038, 22.825120085394058, 22.878491371642056, 22.157979007294077]\n",
    "x_acc = [2, 10, 15, 20, 25, 30, 300]\n",
    "\n",
    "plt.figure()\n",
    "plt.plot(x_acc,y_acc)\n",
    "plt.xlabel('Number of PCA')\n",
    "plt.ylabel('Accuracy')\n",
    "plt.show()"
   ]
  },
  {
   "cell_type": "code",
   "execution_count": null,
   "id": "79c4937c",
   "metadata": {},
   "outputs": [],
   "source": [
    "for i in np.arange(len(y_test)):\n",
    "    print(label_encoder.inverse_transform([argmax(y_test[i, :])]),'prediction:', label_encoder.inverse_transform([argmax(pred[i, :])]))"
   ]
  },
  {
   "cell_type": "code",
   "execution_count": null,
   "id": "9d7484e6",
   "metadata": {},
   "outputs": [],
   "source": []
  },
  {
   "cell_type": "code",
   "execution_count": null,
   "id": "2a7bd225",
   "metadata": {},
   "outputs": [],
   "source": []
  }
 ],
 "metadata": {
  "kernelspec": {
   "display_name": "Python 3",
   "language": "python",
   "name": "python3"
  },
  "language_info": {
   "codemirror_mode": {
    "name": "ipython",
    "version": 3
   },
   "file_extension": ".py",
   "mimetype": "text/x-python",
   "name": "python",
   "nbconvert_exporter": "python",
   "pygments_lexer": "ipython3",
   "version": "3.8.10"
  }
 },
 "nbformat": 4,
 "nbformat_minor": 5
}
